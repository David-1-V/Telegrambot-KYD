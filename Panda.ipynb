{
 "cells": [
  {
   "cell_type": "code",
   "execution_count": 70,
   "metadata": {},
   "outputs": [],
   "source": [
    "import pandas as pd\n",
    "import numpy as np\n",
    "frame = pd.read_excel('kachan.xls', header = 0)\n",
    "M = np.array(frame)"
   ]
  },
  {
   "cell_type": "code",
   "execution_count": 281,
   "metadata": {},
   "outputs": [
    {
     "ename": "AttributeError",
     "evalue": "'bool' object has no attribute 'append'",
     "output_type": "error",
     "traceback": [
      "\u001b[0;31m---------------------------------------------------------------------------\u001b[0m",
      "\u001b[0;31mAttributeError\u001b[0m                            Traceback (most recent call last)",
      "\u001b[0;32m<ipython-input-281-489e6af852e5>\u001b[0m in \u001b[0;36m<module>\u001b[0;34m\u001b[0m\n\u001b[1;32m     10\u001b[0m \u001b[0;34m\u001b[0m\u001b[0m\n\u001b[1;32m     11\u001b[0m \u001b[0mkeyboard1\u001b[0m \u001b[0;34m=\u001b[0m \u001b[0mtypes\u001b[0m\u001b[0;34m.\u001b[0m\u001b[0mInlineKeyboardMarkup\u001b[0m\u001b[0;34m(\u001b[0m\u001b[0;32mTrue\u001b[0m\u001b[0;34m,\u001b[0m \u001b[0;32mTrue\u001b[0m\u001b[0;34m)\u001b[0m\u001b[0;34m\u001b[0m\u001b[0;34m\u001b[0m\u001b[0m\n\u001b[0;32m---> 12\u001b[0;31m \u001b[0mkeyboard1\u001b[0m\u001b[0;34m.\u001b[0m\u001b[0madd\u001b[0m\u001b[0;34m(\u001b[0m\u001b[0mtypes\u001b[0m\u001b[0;34m.\u001b[0m\u001b[0mInlineKeyboardButton\u001b[0m\u001b[0;34m(\u001b[0m\u001b[0mtext\u001b[0m\u001b[0;34m=\u001b[0m\u001b[0;34m\"I\"\u001b[0m\u001b[0;34m,\u001b[0m \u001b[0mcallback_data\u001b[0m\u001b[0;34m=\u001b[0m\u001b[0;34m\"I\"\u001b[0m\u001b[0;34m)\u001b[0m\u001b[0;34m)\u001b[0m\u001b[0;34m\u001b[0m\u001b[0;34m\u001b[0m\u001b[0m\n\u001b[0m\u001b[1;32m     13\u001b[0m \u001b[0mkeyboard1\u001b[0m\u001b[0;34m.\u001b[0m\u001b[0madd\u001b[0m\u001b[0;34m(\u001b[0m\u001b[0mtypes\u001b[0m\u001b[0;34m.\u001b[0m\u001b[0mInlineKeyboardButton\u001b[0m\u001b[0;34m(\u001b[0m\u001b[0mtext\u001b[0m\u001b[0;34m=\u001b[0m\u001b[0;34m\"II\"\u001b[0m\u001b[0;34m,\u001b[0m \u001b[0mcallback_data\u001b[0m\u001b[0;34m=\u001b[0m\u001b[0;34m\"II\"\u001b[0m\u001b[0;34m)\u001b[0m\u001b[0;34m)\u001b[0m\u001b[0;34m\u001b[0m\u001b[0;34m\u001b[0m\u001b[0m\n\u001b[1;32m     14\u001b[0m \u001b[0mkeyboard1\u001b[0m\u001b[0;34m.\u001b[0m\u001b[0madd\u001b[0m\u001b[0;34m(\u001b[0m\u001b[0mtypes\u001b[0m\u001b[0;34m.\u001b[0m\u001b[0mInlineKeyboardButton\u001b[0m\u001b[0;34m(\u001b[0m\u001b[0mtext\u001b[0m\u001b[0;34m=\u001b[0m\u001b[0;34m\"III\"\u001b[0m\u001b[0;34m,\u001b[0m \u001b[0mcallback_data\u001b[0m\u001b[0;34m=\u001b[0m\u001b[0;34m\"III\"\u001b[0m\u001b[0;34m)\u001b[0m\u001b[0;34m)\u001b[0m\u001b[0;34m\u001b[0m\u001b[0;34m\u001b[0m\u001b[0m\n",
      "\u001b[0;32m~/.local/lib/python3.8/site-packages/telebot/types.py\u001b[0m in \u001b[0;36madd\u001b[0;34m(self, row_width, *args)\u001b[0m\n\u001b[1;32m    994\u001b[0m         \u001b[0;32mfor\u001b[0m \u001b[0mrow\u001b[0m \u001b[0;32min\u001b[0m \u001b[0mutil\u001b[0m\u001b[0;34m.\u001b[0m\u001b[0mchunks\u001b[0m\u001b[0;34m(\u001b[0m\u001b[0margs\u001b[0m\u001b[0;34m,\u001b[0m \u001b[0mrow_width\u001b[0m\u001b[0;34m)\u001b[0m\u001b[0;34m:\u001b[0m\u001b[0;34m\u001b[0m\u001b[0;34m\u001b[0m\u001b[0m\n\u001b[1;32m    995\u001b[0m             \u001b[0mbutton_array\u001b[0m \u001b[0;34m=\u001b[0m \u001b[0;34m[\u001b[0m\u001b[0mbutton\u001b[0m \u001b[0;32mfor\u001b[0m \u001b[0mbutton\u001b[0m \u001b[0;32min\u001b[0m \u001b[0mrow\u001b[0m\u001b[0;34m]\u001b[0m\u001b[0;34m\u001b[0m\u001b[0;34m\u001b[0m\u001b[0m\n\u001b[0;32m--> 996\u001b[0;31m             \u001b[0mself\u001b[0m\u001b[0;34m.\u001b[0m\u001b[0mkeyboard\u001b[0m\u001b[0;34m.\u001b[0m\u001b[0mappend\u001b[0m\u001b[0;34m(\u001b[0m\u001b[0mbutton_array\u001b[0m\u001b[0;34m)\u001b[0m\u001b[0;34m\u001b[0m\u001b[0;34m\u001b[0m\u001b[0m\n\u001b[0m\u001b[1;32m    997\u001b[0m \u001b[0;34m\u001b[0m\u001b[0m\n\u001b[1;32m    998\u001b[0m         \u001b[0;32mreturn\u001b[0m \u001b[0mself\u001b[0m\u001b[0;34m\u001b[0m\u001b[0;34m\u001b[0m\u001b[0m\n",
      "\u001b[0;31mAttributeError\u001b[0m: 'bool' object has no attribute 'append'"
     ]
    }
   ],
   "source": [
    "\n",
    "import telebot\n",
    "from telebot import types\n",
    "import pandas as pd\n",
    "import numpy as np\n",
    "\n",
    "frame = pd.read_excel('kachan.xls', header = 0)\n",
    "\n",
    "token = '1441370825:AAF6QiTBd9zHeQ9bwfUHMpaJn89od21ABkE'\n",
    "bot = telebot.TeleBot(token)\n",
    "\n",
    "keyboard1 = types.InlineKeyboardMarkup(True, True)\n",
    "keyboard1.add(types.InlineKeyboardButton(text=\"I\", callback_data=\"I\"))\n",
    "keyboard1.add(types.InlineKeyboardButton(text=\"II\", callback_data=\"II\"))\n",
    "keyboard1.add(types.InlineKeyboardButton(text=\"III\", callback_data=\"III\"))\n",
    "keyboard1.add(types.InlineKeyboardButton(text=\"IV\", callback_data=\"IV\"))\n",
    "keyboard1.add(types.InlineKeyboardButton(text=\"V\", callback_data=\"V\"))\n",
    "keyboard1.add(types.InlineKeyboardButton(text=\"VI\", callback_data=\"VI\"))\n",
    "keyboard1.add(types.InlineKeyboardButton(text=\"VII\", callback_data=\"VII\"))\n",
    "\n",
    "keyboard2 = types.InlineKeyboardMarkup(True, True)\n",
    "keyboard2.add(types.InlineKeyboardButton(text=\"Li\", callback_data=\"Li\"))\n",
    "keyboard2.add(types.InlineKeyboardButton(text=\"Na\", callback_data=\"Na\"))\n",
    "keyboard2.add(types.InlineKeyboardButton(text=\"K\", callback_data=\"K\"))\n",
    "keyboard2.add(types.InlineKeyboardButton(text=\"Rb\", callback_data=\"Rb\"))\n",
    "keyboard2.add(types.InlineKeyboardButton(text=\"Cs\", callback_data=\"Cs\"))\n",
    "keyboard2('Li','Na', 'K', 'Rb', 'Cs')\n",
    "\n",
    "\n",
    "\n",
    "\n",
    "@bot.message_handler(commands=['start'])\n",
    "def start_bot(message):\n",
    "    keyboard = keyboard1\n",
    "    bot.send_message(\n",
    "        message.chat.id,  # Идентификатор ID\n",
    "        'Привет, хочешь узнать качественные реакции? Выбери группу элементов:',  # Текст сообщения\n",
    "        reply_markup=keyboard  # Кнопки\n",
    "    )\n",
    "\n",
    "@bot.callback_query_handler(func=lambda call: True)\n",
    "def callback_worker(call):\n",
    "    \n",
    "    if call.data == \"1\":\n",
    "        bot.send_message(\n",
    "        call.message.chat.id, 'А теперь выбери элемент',\n",
    "        reply_markup = keyboard2)\n",
    "        \n",
    "        elem = callback_data\n",
    "        c = np.where(elem == M)[0][0]\n",
    "        print(frame.iloc[c][2])\n",
    "\n",
    "\n",
    "        \n",
    "\n",
    "\n",
    "if __name__ == '__main__':\n",
    "    bot.polling(none_stop=True)\n",
    "\n",
    "\n"
   ]
  },
  {
   "cell_type": "code",
   "execution_count": 274,
   "metadata": {},
   "outputs": [],
   "source": [
    "M = np.array(frame)\n",
    "group = 'II'\n",
    "elem = 'Ba'"
   ]
  },
  {
   "cell_type": "code",
   "execution_count": 275,
   "metadata": {},
   "outputs": [
    {
     "data": {
      "text/plain": [
       "6"
      ]
     },
     "execution_count": 275,
     "metadata": {},
     "output_type": "execute_result"
    }
   ],
   "source": [
    "c = np.where(elem == M)[0][0]\n",
    "c"
   ]
  },
  {
   "cell_type": "code",
   "execution_count": 266,
   "metadata": {},
   "outputs": [],
   "source": [
    "frame[(frame['Группа'] == m)]"
   ]
  },
  {
   "cell_type": "code",
   "execution_count": 277,
   "metadata": {},
   "outputs": [
    {
     "name": "stdout",
     "output_type": "stream",
     "text": [
      "Катионы бария Ва2+ образуют с сульфат-ионами белый кристаллический осадок сульфата бария BaSO4: \n",
      "Ва2+ + SO– → BaSO4. \n",
      "Осадок нерастворим в щелочах и кислотах, за исключением концентриро- ванной серной кислоты, в которой он заметно растворяется с образованием гидросульфата бария Ba(HSO4)2: \n",
      "BaSO4 + H2SO4 → Ba(HSO4)2\n",
      "Дихромат калия, K2Cr2O7, образует с ионом Ba2+ желтый осадок BaCrO4, растворимый в HCl и нерастворимый в CH3COOH. В растворе cуществуют K2Cr2O7 и ионы Cr2O7 , и ионы CrO4 в результате подвижного равновесия: Cr2O72- + H2O = 2CrO42- +2H+ \n",
      "В кислой среде преобладают ионы  Cr2O72, в нейтральной и щелочной – CrO4. Растворимость BaCrO4 в воде значительно ниже растворимости BaCr2O7, поэтому он и выпадает в осадок. \n",
      "2BaCl2 +K2Cr2O7 +H2O = 2BaCrO4 ↓+2HCl желтый осадок\n",
      "Реакция окрашивания пламени. Чистую нихромовую проволочку смочите раствором BaCl2 и внесите в пламя горелки. Пламя окрасится в желто- зеленый цвет. \n",
      "Карбонат аммония, (NH4)2CO3, образует с ионом Ba2+ белый осадок BaCO3 нерастворимый в NH4Cl:\n",
      "(NH4)2CO3 + BaCl2 = BaCO3 ↓ + 2NH4Cl\n"
     ]
    }
   ],
   "source": [
    "if n in frame.values:\n",
    "  \n",
    "    print(frame.iloc[c][2])\n",
    "else:\n",
    "    print('error')\n",
    "\n"
   ]
  },
  {
   "cell_type": "code",
   "execution_count": null,
   "metadata": {},
   "outputs": [],
   "source": []
  },
  {
   "cell_type": "code",
   "execution_count": 267,
   "metadata": {},
   "outputs": [
    {
     "data": {
      "text/plain": [
       "6"
      ]
     },
     "execution_count": 267,
     "metadata": {},
     "output_type": "execute_result"
    }
   ],
   "source": []
  },
  {
   "cell_type": "code",
   "execution_count": null,
   "metadata": {},
   "outputs": [],
   "source": []
  },
  {
   "cell_type": "code",
   "execution_count": null,
   "metadata": {},
   "outputs": [],
   "source": [
    "m = 'II'"
   ]
  },
  {
   "cell_type": "code",
   "execution_count": null,
   "metadata": {},
   "outputs": [],
   "source": []
  },
  {
   "cell_type": "code",
   "execution_count": null,
   "metadata": {},
   "outputs": [],
   "source": [
    "\n",
    "    \n"
   ]
  },
  {
   "cell_type": "code",
   "execution_count": null,
   "metadata": {},
   "outputs": [],
   "source": []
  }
 ],
 "metadata": {
  "kernelspec": {
   "display_name": "Python 3",
   "language": "python",
   "name": "python3"
  },
  "language_info": {
   "codemirror_mode": {
    "name": "ipython",
    "version": 3
   },
   "file_extension": ".py",
   "mimetype": "text/x-python",
   "name": "python",
   "nbconvert_exporter": "python",
   "pygments_lexer": "ipython3",
   "version": "3.8.5"
  }
 },
 "nbformat": 4,
 "nbformat_minor": 4
}
